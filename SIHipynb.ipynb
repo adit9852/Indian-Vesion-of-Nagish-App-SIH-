{
  "nbformat": 4,
  "nbformat_minor": 0,
  "metadata": {
    "colab": {
      "provenance": [],
      "authorship_tag": "ABX9TyNi4AXPA//vgcQqGZZ9iFhE",
      "include_colab_link": true
    },
    "kernelspec": {
      "name": "python3",
      "display_name": "Python 3"
    },
    "language_info": {
      "name": "python"
    }
  },
  "cells": [
    {
      "cell_type": "markdown",
      "metadata": {
        "id": "view-in-github",
        "colab_type": "text"
      },
      "source": [
        "<a href=\"https://colab.research.google.com/github/adit9852/JS-aditya/blob/main/SIHipynb.ipynb\" target=\"_parent\"><img src=\"https://colab.research.google.com/assets/colab-badge.svg\" alt=\"Open In Colab\"/></a>"
      ]
    },
    {
      "cell_type": "code",
      "execution_count": 5,
      "metadata": {
        "colab": {
          "base_uri": "https://localhost:8080/",
          "height": 356
        },
        "id": "rCDUY0VeA_DB",
        "outputId": "5bf359fd-e2b2-448c-d3f2-15553e315ace"
      },
      "outputs": [
        {
          "output_type": "error",
          "ename": "KeyboardInterrupt",
          "evalue": "Interrupted by user",
          "traceback": [
            "\u001b[0;31m---------------------------------------------------------------------------\u001b[0m",
            "\u001b[0;31mKeyboardInterrupt\u001b[0m                         Traceback (most recent call last)",
            "\u001b[0;32m<ipython-input-5-9618859b72ab>\u001b[0m in \u001b[0;36m<cell line: 70>\u001b[0;34m()\u001b[0m\n\u001b[1;32m     70\u001b[0m \u001b[0;32mif\u001b[0m \u001b[0m__name__\u001b[0m \u001b[0;34m==\u001b[0m \u001b[0;34m\"__main__\"\u001b[0m\u001b[0;34m:\u001b[0m\u001b[0;34m\u001b[0m\u001b[0;34m\u001b[0m\u001b[0m\n\u001b[1;32m     71\u001b[0m     \u001b[0;31m# Get API key from user\u001b[0m\u001b[0;34m\u001b[0m\u001b[0;34m\u001b[0m\u001b[0m\n\u001b[0;32m---> 72\u001b[0;31m     \u001b[0mapi_key\u001b[0m \u001b[0;34m=\u001b[0m \u001b[0minput\u001b[0m\u001b[0;34m(\u001b[0m\u001b[0;34m\"Enter your SARVAM API key: \"\u001b[0m\u001b[0;34m)\u001b[0m\u001b[0;34m\u001b[0m\u001b[0;34m\u001b[0m\u001b[0m\n\u001b[0m\u001b[1;32m     73\u001b[0m \u001b[0;34m\u001b[0m\u001b[0m\n\u001b[1;32m     74\u001b[0m     \u001b[0;31m# Get user choice between TTS and STT\u001b[0m\u001b[0;34m\u001b[0m\u001b[0;34m\u001b[0m\u001b[0m\n",
            "\u001b[0;32m/usr/local/lib/python3.10/dist-packages/ipykernel/kernelbase.py\u001b[0m in \u001b[0;36mraw_input\u001b[0;34m(self, prompt)\u001b[0m\n\u001b[1;32m    849\u001b[0m                 \u001b[0;34m\"raw_input was called, but this frontend does not support input requests.\"\u001b[0m\u001b[0;34m\u001b[0m\u001b[0;34m\u001b[0m\u001b[0m\n\u001b[1;32m    850\u001b[0m             )\n\u001b[0;32m--> 851\u001b[0;31m         return self._input_request(str(prompt),\n\u001b[0m\u001b[1;32m    852\u001b[0m             \u001b[0mself\u001b[0m\u001b[0;34m.\u001b[0m\u001b[0m_parent_ident\u001b[0m\u001b[0;34m,\u001b[0m\u001b[0;34m\u001b[0m\u001b[0;34m\u001b[0m\u001b[0m\n\u001b[1;32m    853\u001b[0m             \u001b[0mself\u001b[0m\u001b[0;34m.\u001b[0m\u001b[0m_parent_header\u001b[0m\u001b[0;34m,\u001b[0m\u001b[0;34m\u001b[0m\u001b[0;34m\u001b[0m\u001b[0m\n",
            "\u001b[0;32m/usr/local/lib/python3.10/dist-packages/ipykernel/kernelbase.py\u001b[0m in \u001b[0;36m_input_request\u001b[0;34m(self, prompt, ident, parent, password)\u001b[0m\n\u001b[1;32m    893\u001b[0m             \u001b[0;32mexcept\u001b[0m \u001b[0mKeyboardInterrupt\u001b[0m\u001b[0;34m:\u001b[0m\u001b[0;34m\u001b[0m\u001b[0;34m\u001b[0m\u001b[0m\n\u001b[1;32m    894\u001b[0m                 \u001b[0;31m# re-raise KeyboardInterrupt, to truncate traceback\u001b[0m\u001b[0;34m\u001b[0m\u001b[0;34m\u001b[0m\u001b[0m\n\u001b[0;32m--> 895\u001b[0;31m                 \u001b[0;32mraise\u001b[0m \u001b[0mKeyboardInterrupt\u001b[0m\u001b[0;34m(\u001b[0m\u001b[0;34m\"Interrupted by user\"\u001b[0m\u001b[0;34m)\u001b[0m \u001b[0;32mfrom\u001b[0m \u001b[0;32mNone\u001b[0m\u001b[0;34m\u001b[0m\u001b[0;34m\u001b[0m\u001b[0m\n\u001b[0m\u001b[1;32m    896\u001b[0m             \u001b[0;32mexcept\u001b[0m \u001b[0mException\u001b[0m \u001b[0;32mas\u001b[0m \u001b[0me\u001b[0m\u001b[0;34m:\u001b[0m\u001b[0;34m\u001b[0m\u001b[0;34m\u001b[0m\u001b[0m\n\u001b[1;32m    897\u001b[0m                 \u001b[0mself\u001b[0m\u001b[0;34m.\u001b[0m\u001b[0mlog\u001b[0m\u001b[0;34m.\u001b[0m\u001b[0mwarning\u001b[0m\u001b[0;34m(\u001b[0m\u001b[0;34m\"Invalid Message:\"\u001b[0m\u001b[0;34m,\u001b[0m \u001b[0mexc_info\u001b[0m\u001b[0;34m=\u001b[0m\u001b[0;32mTrue\u001b[0m\u001b[0;34m)\u001b[0m\u001b[0;34m\u001b[0m\u001b[0;34m\u001b[0m\u001b[0m\n",
            "\u001b[0;31mKeyboardInterrupt\u001b[0m: Interrupted by user"
          ]
        }
      ],
      "source": [
        "import requests\n",
        "from IPython.display import Audio\n",
        "from google.colab import files  # Use if working in Google Colab\n",
        "import base64\n",
        "\n",
        "# Function to get user input for TTS or STT\n",
        "def get_user_choice():\n",
        "    print(\"Choose an option:\")\n",
        "    print(\"1. Text-to-Speech (TTS)\")\n",
        "    print(\"2. Speech-to-Text (STT)\")\n",
        "    choice = input(\"Enter the number (1 or 2): \")\n",
        "    return choice\n",
        "\n",
        "# Function to get inputs for Text-to-Speech\n",
        "def get_tts_input():\n",
        "    text = input(\"Enter the text you want to convert to speech: \")\n",
        "    language_code = input(\"Enter the language code (e.g., 'hi-IN' for Hindi, 'en-US' for English): \")\n",
        "    model = input(\"Enter the model for Text-to-Speech (e.g., 'bulbul:v1'): \")\n",
        "\n",
        "    return text, language_code, model\n",
        "\n",
        "# Function to get inputs for Speech-to-Text\n",
        "def get_stt_input():\n",
        "    language_code = input(\"Enter the language code for transcription (e.g., 'hi-IN' for Hindi, 'en-US' for English): \")\n",
        "    model = input(\"Enter the model for Speech-to-Text (e.g., 'saarika:v1'): \")\n",
        "\n",
        "    return language_code, model\n",
        "\n",
        "# Function for Text-to-Speech conversion\n",
        "def text_to_speech(api_key, text, language_code, model):\n",
        "    url = \"https://api.sarvam.ai/text-to-speech\"\n",
        "    payload = {\n",
        "        \"inputs\": [text],\n",
        "        \"target_language_code\": language_code,\n",
        "        \"speaker\": \"meera\",  # Predefined speaker\n",
        "        \"pitch\": 0,          # Predefined pitch\n",
        "        \"pace\": 1.65,        # Predefined pace\n",
        "        \"loudness\": 2,       # Predefined loudness\n",
        "        \"speech_sample_rate\": 8000,  # Predefined sample rate\n",
        "        \"enable_preprocessing\": True,\n",
        "        \"model\": model\n",
        "    }\n",
        "    headers = {\"Content-Type\": \"application/json\", \"API-Subscription-Key\": api_key}\n",
        "\n",
        "    response = requests.post(url, json=payload, headers=headers)\n",
        "    audio_string = response.text[12:-3]  # Extract the audio content\n",
        "    audio_data = base64.b64decode(audio_string)\n",
        "\n",
        "    with open(\"output.wav\", \"wb\") as audio_file:\n",
        "        audio_file.write(audio_data)\n",
        "\n",
        "    return \"output.wav\"\n",
        "\n",
        "# Function for Speech-to-Text conversion\n",
        "def speech_to_text(api_key, language_code, model, audio_file_path):\n",
        "    url = \"https://api.sarvam.ai/speech-to-text\"\n",
        "    data = {\n",
        "        \"language_code\": language_code,\n",
        "        \"model\": model,\n",
        "    }\n",
        "    files = {\n",
        "        \"file\": (\"audio.wav\", open(audio_file_path, \"rb\"), \"audio/wav\")\n",
        "    }\n",
        "    headers = {\"API-Subscription-Key\": api_key}\n",
        "\n",
        "    response = requests.post(url, data=data, files=files, headers=headers)\n",
        "    return response.json()\n",
        "\n",
        "# Main program\n",
        "if __name__ == \"__main__\":\n",
        "    # Get API key from user\n",
        "    api_key = input(\"Enter your SARVAM API key: \")\n",
        "\n",
        "    # Get user choice between TTS and STT\n",
        "    choice = get_user_choice()\n",
        "\n",
        "    if choice == \"1\":\n",
        "        # Text-to-Speech flow\n",
        "        text, language_code, model = get_tts_input()\n",
        "        output_audio_file = text_to_speech(api_key, text, language_code, model)\n",
        "\n",
        "        # Play the generated audio\n",
        "        audio_file = open(output_audio_file, \"rb\")\n",
        "        display(Audio(audio_file.read(), autoplay=True))\n",
        "\n",
        "    elif choice == \"2\":\n",
        "        # Speech-to-Text flow\n",
        "        language_code, model = get_stt_input()\n",
        "\n",
        "        # Upload the audio file\n",
        "        print(\"Please upload your audio file (.wav format)\")\n",
        "        uploaded_files = files.upload()  # Opens a file dialog for upload\n",
        "        audio_file_path = list(uploaded_files.keys())[0]  # Get the first uploaded file's path\n",
        "\n",
        "        # Play the uploaded audio\n",
        "        audio_file = open(audio_file_path, \"rb\")\n",
        "        display(Audio(audio_file.read(), autoplay=True))\n",
        "\n",
        "        # Perform Speech-to-Text conversion\n",
        "        stt_result = speech_to_text(api_key, language_code, model, audio_file_path)\n",
        "\n",
        "        # Print the transcription result\n",
        "        print(\"Speech-to-Text result:\", stt_result)\n",
        "\n",
        "    else:\n",
        "        print(\"Invalid choice. Please restart the script and choose either 1 or 2.\")\n"
      ]
    },
    {
      "cell_type": "code",
      "source": [],
      "metadata": {
        "id": "_rCQD6N-BP4B"
      },
      "execution_count": null,
      "outputs": []
    }
  ]
}